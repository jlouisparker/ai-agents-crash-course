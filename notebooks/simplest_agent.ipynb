{
 "cells": [
  {
   "cell_type": "markdown",
   "id": "9bb0ee48",
   "metadata": {},
   "source": [
    "# Creating a Simple Agent with Tracing"
   ]
  },
  {
   "cell_type": "code",
   "execution_count": null,
   "id": "dced13ed",
   "metadata": {},
   "outputs": [],
   "source": [
    "import dotenv\n",
    "import os\n",
    "\n",
    "from openai import OpenAI\n",
    "\n",
    "dotenv.load_dotenv()\n",
    "\n",
    "if not os.environ.get(\"OPENAI_API_KEY\"):\n",
    "    print(\n",
    "        \"\"\"Error: OPENAI_API_KEY environment variable not set. Please copy the .env.template file as .env and fill it in.\n",
    "    \n",
    "    You can execute these commands in the terminal to get started:\n",
    "    cp .env.template .env\n",
    "    code .env\n",
    "    \"\"\"\n",
    "    )\n",
    "\n",
    "# Test OpenAI Access\n",
    "print(\n",
    "    OpenAI()\n",
    "    .responses.create(\n",
    "        model=os.environ[\"OPENAI_DEFAULT_MODEL\"], input=\"Say: We are up and running!\"\n",
    "    )\n",
    "    .output_text\n",
    ")"
   ]
  },
  {
   "cell_type": "code",
   "execution_count": 1,
   "id": "afcbf0e1",
   "metadata": {},
   "outputs": [],
   "source": [
    "from agents import Agent, Runner, trace\n",
    "from openai.types.responses import ResponseTextDeltaEvent"
   ]
  },
  {
   "cell_type": "markdown",
   "id": "648facaa",
   "metadata": {},
   "source": [
    "Create a simple Nutrition Assistant Agent"
   ]
  },
  {
   "cell_type": "code",
   "execution_count": 2,
   "id": "5e542d69",
   "metadata": {},
   "outputs": [],
   "source": [
    "nutrition_agent = Agent(\n",
    "    name=\"Nutrition Assistant\",\n",
    "    instructions=\"\"\"\n",
    "    You are a helpful assistant giving out nutrition advice.\n",
    "    You give concise answers.\n",
    "    \"\"\"\n",
    ")\n"
   ]
  },
  {
   "cell_type": "markdown",
   "id": "8d30b1b1",
   "metadata": {},
   "source": [
    "Let's execute the Agent:"
   ]
  },
  {
   "cell_type": "code",
   "execution_count": 3,
   "id": "1ede6dc3",
   "metadata": {},
   "outputs": [
    {
     "name": "stdout",
     "output_type": "stream",
     "text": [
      "RunResult:\n",
      "- Last agent: Agent(name=\"Nutrition Assistant\", ...)\n",
      "- Final output (str):\n",
      "    Overall: yes, bananas are healthy as part of a balanced diet.\n",
      "    \n",
      "    Nutrients (per medium banana, ~118 g):\n",
      "    - Potassium: ~400–450 mg\n",
      "    - Vitamin B6: ~0.5 mg\n",
      "    - Vitamin C: ~10 mg\n",
      "    - Fiber: ~3 g\n",
      "    - Calories: ~105\n",
      "    - Carbs: mainly natural sugars and starch (varies with ripeness)\n",
      "    \n",
      "    Benefits:\n",
      "    - Supports heart and muscle function, digestion, and energy.\n",
      "    - Unripe bananas have more resistant starch; ripe bananas have sweeter, faster-digesting sugars.\n",
      "    \n",
      "    Considerations:\n",
      "    - Moderate sugar content; portion if watching sugar intake.\n",
      "    - People with kidney disease may need potassium restrictions.\n",
      "    \n",
      "    If you want, I can tailor advice to your diet or health goals.\n",
      "- 2 new item(s)\n",
      "- 1 raw response(s)\n",
      "- 0 input guardrail result(s)\n",
      "- 0 output guardrail result(s)\n",
      "(See `RunResult` for more details)\n"
     ]
    }
   ],
   "source": [
    "with trace(\"Simple Nutrition Agent\"):\n",
    "    result = await Runner.run(nutrition_agent, \"How healthy are bananas?\")\n",
    "\n",
    "print(result)"
   ]
  },
  {
   "cell_type": "markdown",
   "id": "eee3194d",
   "metadata": {},
   "source": [
    "Streaming the answer to the screen, token by token"
   ]
  },
  {
   "cell_type": "code",
   "execution_count": 4,
   "id": "fa70122b",
   "metadata": {},
   "outputs": [
    {
     "name": "stdout",
     "output_type": "stream",
     "text": [
      "Bananas are a healthy, nutrient-dense fruit. Key points:\n",
      "\n",
      "- Rich in potassium, vitamin B6, vitamin C, and dietary fiber.\n",
      "- Provide quick energy from natural sugars; unripe bananas have more resistant starch (prebiotic).\n",
      "- May support heart health, digestion, and steady energy.\n",
      "- Low in fat and protein; watch portion if you’re tracking sugar or calories.\n",
      "- Practical tips: great as a snack, in smoothies, or with oats.\n",
      "\n",
      "Cautions:\n",
      "- If you have kidney disease or are advised to limit potassium, monitor intake.\n",
      "- Higher sugar content in ripe bananas may affect blood sugar differently for some people.\n",
      "\n",
      "Overall: 1–2 bananas per day fit most healthy eating patterns."
     ]
    }
   ],
   "source": [
    "response_stream = Runner.run_streamed(nutrition_agent, \"How healthy are bananas?\")\n",
    "\n",
    "async for event in response_stream.stream_events():\n",
    "    if event.type == \"raw_response_event\" and isinstance(\n",
    "        event.data, ResponseTextDeltaEvent\n",
    "    ):\n",
    "        print(event.data.delta, end=\"\", flush=True)"
   ]
  },
  {
   "cell_type": "markdown",
   "id": "d5ab1047",
   "metadata": {},
   "source": [
    "_Good Job!_"
   ]
  },
  {
   "cell_type": "markdown",
   "id": "75e7c0c8",
   "metadata": {},
   "source": []
  }
 ],
 "metadata": {
  "kernelspec": {
   "display_name": "Python 3",
   "language": "python",
   "name": "python3"
  },
  "language_info": {
   "codemirror_mode": {
    "name": "ipython",
    "version": 3
   },
   "file_extension": ".py",
   "mimetype": "text/x-python",
   "name": "python",
   "nbconvert_exporter": "python",
   "pygments_lexer": "ipython3",
   "version": "3.13.5"
  }
 },
 "nbformat": 4,
 "nbformat_minor": 5
}
